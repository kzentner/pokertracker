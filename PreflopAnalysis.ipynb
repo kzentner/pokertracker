{
 "cells": [
  {
   "cell_type": "code",
   "execution_count": 1,
   "metadata": {
    "scrolled": false
   },
   "outputs": [
    {
     "data": {
      "application/vnd.jupyter.widget-view+json": {
       "model_id": "b536523b74ce4d90a9d567bfb7415a52",
       "version_major": 2,
       "version_minor": 0
      },
      "text/plain": [
       "Box(children=(HBox(children=(HTML(value='<style>\\n            .Raises {\\n                border: 1px solid bla…"
      ]
     },
     "metadata": {},
     "output_type": "display_data"
    }
   ],
   "source": [
    "from PreflopHand import PreflopHand\n",
    "import ipywidgets as widgets\n",
    "from IPython.display import display\n",
    "import Decision_Types as Decision\n",
    "\n",
    "class Grid:\n",
    "    def __init__(self):\n",
    "        cardTypes = ['A', 'K', 'Q', 'J', 'T', '9', '8', '7', '6', '5', '4', '3', '2']\n",
    "        i = 0\n",
    "        rows = []\n",
    "        while i < len(cardTypes):\n",
    "            j = 0\n",
    "            children = []\n",
    "            while j < len(cardTypes):\n",
    "                cardStr = \"\"\n",
    "                if i > j:\n",
    "                    cardStr = cardTypes[j] + cardTypes[i] + 'o'\n",
    "                elif i < j:\n",
    "                    cardStr = cardTypes[i] + cardTypes[j] + 's'\n",
    "                else:\n",
    "                    cardStr = cardTypes[i] + cardTypes[j]\n",
    "\n",
    "                self.current_actionType = Decision.Folds\n",
    "                if i < 5 and j < 5:\n",
    "                    self.current_actionType = Decision.Raises\n",
    "                children.append(PreflopHand(cardStr, self.current_actionType).get_display())\n",
    "                j += 1\n",
    "            rows.append(widgets.HBox(children=children, layout=widgets.Layout(display=\"flex\")))\n",
    "            i += 1\n",
    "\n",
    "        self.grid = widgets.Box(\n",
    "            children=rows,\n",
    "            layout=widgets.Layout(\n",
    "                display=\"flex\",\n",
    "                flex_flow=\"column\",\n",
    "                align_items=\"flex-start\"\n",
    "            )\n",
    "        )\n",
    "        self.grid.align_items=\"flex_start\"\n",
    "\n",
    "display(Grid().grid)\n"
   ]
  },
  {
   "cell_type": "code",
   "execution_count": null,
   "metadata": {},
   "outputs": [],
   "source": []
  }
 ],
 "metadata": {
  "kernelspec": {
   "display_name": "Python 3 (ipykernel)",
   "language": "python",
   "name": "python3"
  },
  "language_info": {
   "codemirror_mode": {
    "name": "ipython",
    "version": 3
   },
   "file_extension": ".py",
   "mimetype": "text/x-python",
   "name": "python",
   "nbconvert_exporter": "python",
   "pygments_lexer": "ipython3",
   "version": "3.8.10"
  },
  "vscode": {
   "interpreter": {
    "hash": "3192c00b8f77f646cdb90cdd85ce4cb9b2e25ff4b10d2c8de4cd7fdb26351ec7"
   }
  }
 },
 "nbformat": 4,
 "nbformat_minor": 2
}
